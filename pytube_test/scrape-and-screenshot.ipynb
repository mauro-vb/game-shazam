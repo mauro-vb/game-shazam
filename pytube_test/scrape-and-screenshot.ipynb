{
 "cells": [
  {
   "cell_type": "markdown",
   "id": "46240424",
   "metadata": {
    "heading_collapsed": true
   },
   "source": [
    "## Downloading video"
   ]
  },
  {
   "cell_type": "code",
   "execution_count": 2,
   "id": "acfa93c8",
   "metadata": {
    "hidden": true
   },
   "outputs": [
    {
     "name": "stdout",
     "output_type": "stream",
     "text": [
      "Collecting pytube\n",
      "  Downloading pytube-12.1.0-py3-none-any.whl (56 kB)\n",
      "\u001b[2K     \u001b[90m━━━━━━━━━━━━━━━━━━━━━━━━━━━━━━━━━━━━━━━━\u001b[0m \u001b[32m56.5/56.5 kB\u001b[0m \u001b[31m1.8 MB/s\u001b[0m eta \u001b[36m0:00:00\u001b[0m\n",
      "\u001b[?25hInstalling collected packages: pytube\n",
      "Successfully installed pytube-12.1.0\n"
     ]
    }
   ],
   "source": [
    "! pip install pytube"
   ]
  },
  {
   "cell_type": "code",
   "execution_count": 43,
   "id": "f8802459",
   "metadata": {
    "hidden": true
   },
   "outputs": [],
   "source": [
    "from pytube import YouTube"
   ]
  },
  {
   "cell_type": "code",
   "execution_count": 44,
   "id": "0f2c1857",
   "metadata": {
    "hidden": true
   },
   "outputs": [],
   "source": [
    "vid = YouTube('https://www.youtube.com/watch?v=q0A6xrmXFa4&ab_channel=LegendStuff')"
   ]
  },
  {
   "cell_type": "code",
   "execution_count": 59,
   "id": "fce55c44",
   "metadata": {
    "hidden": true
   },
   "outputs": [
    {
     "data": {
      "text/plain": [
       "[<Stream: itag=\"17\" mime_type=\"video/3gpp\" res=\"144p\" fps=\"8fps\" vcodec=\"mp4v.20.3\" acodec=\"mp4a.40.2\" progressive=\"True\" type=\"video\">, <Stream: itag=\"18\" mime_type=\"video/mp4\" res=\"360p\" fps=\"30fps\" vcodec=\"avc1.42001E\" acodec=\"mp4a.40.2\" progressive=\"True\" type=\"video\">, <Stream: itag=\"22\" mime_type=\"video/mp4\" res=\"720p\" fps=\"30fps\" vcodec=\"avc1.64001F\" acodec=\"mp4a.40.2\" progressive=\"True\" type=\"video\">, <Stream: itag=\"299\" mime_type=\"video/mp4\" res=\"1080p\" fps=\"60fps\" vcodec=\"avc1.64002a\" progressive=\"False\" type=\"video\">, <Stream: itag=\"303\" mime_type=\"video/webm\" res=\"1080p\" fps=\"60fps\" vcodec=\"vp9\" progressive=\"False\" type=\"video\">, <Stream: itag=\"399\" mime_type=\"video/mp4\" res=\"1080p\" fps=\"60fps\" vcodec=\"av01.0.09M.08\" progressive=\"False\" type=\"video\">, <Stream: itag=\"298\" mime_type=\"video/mp4\" res=\"720p\" fps=\"60fps\" vcodec=\"avc1.4d4020\" progressive=\"False\" type=\"video\">, <Stream: itag=\"302\" mime_type=\"video/webm\" res=\"720p\" fps=\"60fps\" vcodec=\"vp9\" progressive=\"False\" type=\"video\">, <Stream: itag=\"398\" mime_type=\"video/mp4\" res=\"720p\" fps=\"60fps\" vcodec=\"av01.0.08M.08\" progressive=\"False\" type=\"video\">, <Stream: itag=\"135\" mime_type=\"video/mp4\" res=\"480p\" fps=\"30fps\" vcodec=\"avc1.4d401f\" progressive=\"False\" type=\"video\">, <Stream: itag=\"244\" mime_type=\"video/webm\" res=\"480p\" fps=\"30fps\" vcodec=\"vp9\" progressive=\"False\" type=\"video\">, <Stream: itag=\"397\" mime_type=\"video/mp4\" res=\"480p\" fps=\"30fps\" vcodec=\"av01.0.04M.08\" progressive=\"False\" type=\"video\">, <Stream: itag=\"134\" mime_type=\"video/mp4\" res=\"360p\" fps=\"30fps\" vcodec=\"avc1.4d401e\" progressive=\"False\" type=\"video\">, <Stream: itag=\"243\" mime_type=\"video/webm\" res=\"360p\" fps=\"30fps\" vcodec=\"vp9\" progressive=\"False\" type=\"video\">, <Stream: itag=\"396\" mime_type=\"video/mp4\" res=\"360p\" fps=\"30fps\" vcodec=\"av01.0.01M.08\" progressive=\"False\" type=\"video\">, <Stream: itag=\"133\" mime_type=\"video/mp4\" res=\"240p\" fps=\"30fps\" vcodec=\"avc1.4d4015\" progressive=\"False\" type=\"video\">, <Stream: itag=\"242\" mime_type=\"video/webm\" res=\"240p\" fps=\"30fps\" vcodec=\"vp9\" progressive=\"False\" type=\"video\">, <Stream: itag=\"395\" mime_type=\"video/mp4\" res=\"240p\" fps=\"30fps\" vcodec=\"av01.0.00M.08\" progressive=\"False\" type=\"video\">, <Stream: itag=\"160\" mime_type=\"video/mp4\" res=\"144p\" fps=\"30fps\" vcodec=\"avc1.4d400c\" progressive=\"False\" type=\"video\">, <Stream: itag=\"278\" mime_type=\"video/webm\" res=\"144p\" fps=\"30fps\" vcodec=\"vp9\" progressive=\"False\" type=\"video\">, <Stream: itag=\"394\" mime_type=\"video/mp4\" res=\"144p\" fps=\"30fps\" vcodec=\"av01.0.00M.08\" progressive=\"False\" type=\"video\">, <Stream: itag=\"139\" mime_type=\"audio/mp4\" abr=\"48kbps\" acodec=\"mp4a.40.5\" progressive=\"False\" type=\"audio\">, <Stream: itag=\"140\" mime_type=\"audio/mp4\" abr=\"128kbps\" acodec=\"mp4a.40.2\" progressive=\"False\" type=\"audio\">, <Stream: itag=\"249\" mime_type=\"audio/webm\" abr=\"50kbps\" acodec=\"opus\" progressive=\"False\" type=\"audio\">, <Stream: itag=\"250\" mime_type=\"audio/webm\" abr=\"70kbps\" acodec=\"opus\" progressive=\"False\" type=\"audio\">, <Stream: itag=\"251\" mime_type=\"audio/webm\" abr=\"160kbps\" acodec=\"opus\" progressive=\"False\" type=\"audio\">]"
      ]
     },
     "execution_count": 59,
     "metadata": {},
     "output_type": "execute_result"
    }
   ],
   "source": [
    "vid.streams"
   ]
  },
  {
   "cell_type": "code",
   "execution_count": 45,
   "id": "08a0226a",
   "metadata": {
    "hidden": true
   },
   "outputs": [
    {
     "name": "stdout",
     "output_type": "stream",
     "text": [
      "<Stream: itag=\"299\" mime_type=\"video/mp4\" res=\"1080p\" fps=\"60fps\" vcodec=\"avc1.64002a\" progressive=\"False\" type=\"video\">\n",
      "<Stream: itag=\"399\" mime_type=\"video/mp4\" res=\"1080p\" fps=\"60fps\" vcodec=\"av01.0.09M.08\" progressive=\"False\" type=\"video\">\n",
      "<Stream: itag=\"298\" mime_type=\"video/mp4\" res=\"720p\" fps=\"60fps\" vcodec=\"avc1.4d4020\" progressive=\"False\" type=\"video\">\n",
      "<Stream: itag=\"398\" mime_type=\"video/mp4\" res=\"720p\" fps=\"60fps\" vcodec=\"av01.0.08M.08\" progressive=\"False\" type=\"video\">\n",
      "<Stream: itag=\"135\" mime_type=\"video/mp4\" res=\"480p\" fps=\"30fps\" vcodec=\"avc1.4d401f\" progressive=\"False\" type=\"video\">\n",
      "<Stream: itag=\"397\" mime_type=\"video/mp4\" res=\"480p\" fps=\"30fps\" vcodec=\"av01.0.04M.08\" progressive=\"False\" type=\"video\">\n",
      "<Stream: itag=\"134\" mime_type=\"video/mp4\" res=\"360p\" fps=\"30fps\" vcodec=\"avc1.4d401e\" progressive=\"False\" type=\"video\">\n",
      "<Stream: itag=\"396\" mime_type=\"video/mp4\" res=\"360p\" fps=\"30fps\" vcodec=\"av01.0.01M.08\" progressive=\"False\" type=\"video\">\n",
      "<Stream: itag=\"133\" mime_type=\"video/mp4\" res=\"240p\" fps=\"30fps\" vcodec=\"avc1.4d4015\" progressive=\"False\" type=\"video\">\n",
      "<Stream: itag=\"395\" mime_type=\"video/mp4\" res=\"240p\" fps=\"30fps\" vcodec=\"av01.0.00M.08\" progressive=\"False\" type=\"video\">\n",
      "<Stream: itag=\"160\" mime_type=\"video/mp4\" res=\"144p\" fps=\"30fps\" vcodec=\"avc1.4d400c\" progressive=\"False\" type=\"video\">\n",
      "<Stream: itag=\"394\" mime_type=\"video/mp4\" res=\"144p\" fps=\"30fps\" vcodec=\"av01.0.00M.08\" progressive=\"False\" type=\"video\">\n"
     ]
    }
   ],
   "source": [
    "vid_streams_filtered = vid.streams.filter(adaptive=True, only_video=True, file_extension=\"mp4\")\n",
    "print(*vid_streams_filtered, sep=\"\\n\")"
   ]
  },
  {
   "cell_type": "code",
   "execution_count": 52,
   "id": "64676f2a",
   "metadata": {
    "hidden": true
   },
   "outputs": [
    {
     "data": {
      "text/plain": [
       "[<Stream: itag=\"299\" mime_type=\"video/mp4\" res=\"1080p\" fps=\"60fps\" vcodec=\"avc1.64002a\" progressive=\"False\" type=\"video\">,\n",
       " <Stream: itag=\"399\" mime_type=\"video/mp4\" res=\"1080p\" fps=\"60fps\" vcodec=\"av01.0.09M.08\" progressive=\"False\" type=\"video\">]"
      ]
     },
     "execution_count": 52,
     "metadata": {},
     "output_type": "execute_result"
    }
   ],
   "source": [
    "streams_target_qual = [stream for stream in vid_streams_filtered if 'res=\"1080p\"' in str(stream)]\n",
    "streams_target_qual \n"
   ]
  },
  {
   "cell_type": "code",
   "execution_count": 54,
   "id": "0030b96e",
   "metadata": {
    "hidden": true
   },
   "outputs": [
    {
     "name": "stdout",
     "output_type": "stream",
     "text": [
      "119476421\n",
      "125877970\n"
     ]
    }
   ],
   "source": [
    "print(vid_streams_filtered[0].filesize)\n",
    "print(vid_streams_filtered[1].filesize)\n",
    "\n",
    "# Afinar el proceso de seleccion en base al tamaño de archivo mas pequeño desde la calidad deseada\n",
    "# (1080 en este caso) o establecer un limite inferior de calidad y elegir el mas pequeño desde ahi\n",
    "# escribir el download para que baje el indice de la lista que tenga el menor tamaño\n"
   ]
  },
  {
   "cell_type": "code",
   "execution_count": 62,
   "id": "2e91ba38",
   "metadata": {
    "hidden": true
   },
   "outputs": [
    {
     "data": {
      "text/plain": [
       "'/home/julian/code/mauro-vb/game-shazam/pytube_test/Diablo 2 Resurrected Gameplay.mp4'"
      ]
     },
     "execution_count": 62,
     "metadata": {},
     "output_type": "execute_result"
    }
   ],
   "source": [
    "vid_streams_filtered[0].download()\n",
    "# usar parametros filename y filename_prefix para etiquetar correctamente los archivos\n",
    "# output path para mandarlo a una carpeta\n",
    "# automatizar por playlists para feedear playlist manualmente"
   ]
  },
  {
   "cell_type": "markdown",
   "id": "1af04ee2",
   "metadata": {},
   "source": [
    "## Screenshots"
   ]
  },
  {
   "cell_type": "code",
   "execution_count": 4,
   "id": "bba4b465",
   "metadata": {},
   "outputs": [
    {
     "name": "stdout",
     "output_type": "stream",
     "text": [
      "Collecting opencv-python\n",
      "  Downloading opencv_python-4.6.0.66-cp36-abi3-manylinux_2_17_x86_64.manylinux2014_x86_64.whl (60.9 MB)\n",
      "\u001b[2K     \u001b[90m━━━━━━━━━━━━━━━━━━━━━━━━━━━━━━━━━━━━━━━━\u001b[0m \u001b[32m60.9/60.9 MB\u001b[0m \u001b[31m5.3 MB/s\u001b[0m eta \u001b[36m0:00:00\u001b[0m00:01\u001b[0m00:01\u001b[0m\n",
      "\u001b[?25hRequirement already satisfied: numpy>=1.21.2 in /home/julian/.pyenv/versions/3.10.6/envs/data-project/lib/python3.10/site-packages (from opencv-python) (1.23.5)\n",
      "Installing collected packages: opencv-python\n",
      "Successfully installed opencv-python-4.6.0.66\n"
     ]
    }
   ],
   "source": [
    "!pip install opencv-python"
   ]
  },
  {
   "cell_type": "code",
   "execution_count": 6,
   "id": "1deb61c3",
   "metadata": {},
   "outputs": [],
   "source": [
    "from datetime import timedelta\n",
    "import cv2\n",
    "import numpy as np\n",
    "import os"
   ]
  },
  {
   "cell_type": "code",
   "execution_count": 7,
   "id": "441aabdf",
   "metadata": {},
   "outputs": [],
   "source": [
    "SAVING_FRAMES_PER_SECOND = 0.02"
   ]
  },
  {
   "cell_type": "code",
   "execution_count": 8,
   "id": "2876fa95",
   "metadata": {},
   "outputs": [],
   "source": [
    "def format_timedelta(td):\n",
    "    \"\"\"Utility function to format timedelta objects in a cool way (e.g 00:00:20.05) \n",
    "    omitting microseconds and retaining milliseconds\"\"\"\n",
    "    result = str(td)\n",
    "    try:\n",
    "        result, ms = result.split(\".\")\n",
    "    except ValueError:\n",
    "        return (result + \".00\").replace(\":\", \"-\")\n",
    "    ms = int(ms)\n",
    "    ms = round(ms / 1e4)\n",
    "    return f\"{result}.{ms:02}\".replace(\":\", \"-\")"
   ]
  },
  {
   "cell_type": "code",
   "execution_count": 18,
   "id": "2dba0b79",
   "metadata": {},
   "outputs": [],
   "source": [
    "def get_saving_frames_durations(cap, saving_fps):\n",
    "    \"\"\"A function that returns the list of durations where to save the frames\"\"\"\n",
    "    s = []\n",
    "    # get the clip duration by dividing number of frames by the number of frames per second\n",
    "    clip_duration = cap.get(cv2.CAP_PROP_FRAME_COUNT) / cap.get(cv2.CAP_PROP_FPS)\n",
    "    # use np.arange() to make floating-point steps\n",
    "    for i in np.arange(0, clip_duration, 1 / saving_fps):\n",
    "        s.append(i)\n",
    "    return s"
   ]
  },
  {
   "cell_type": "code",
   "execution_count": 19,
   "id": "6bce7200",
   "metadata": {},
   "outputs": [
    {
     "data": {
      "text/plain": [
       "cv2.VideoCapture"
      ]
     },
     "execution_count": 19,
     "metadata": {},
     "output_type": "execute_result"
    }
   ],
   "source": [
    "capture = cv2.VideoCapture('d2test.avi')\n",
    "capture.release()\n",
    "cv2.destroyAllWindows()\n",
    "type(capture)"
   ]
  },
  {
   "cell_type": "code",
   "execution_count": null,
   "id": "acc14bc8",
   "metadata": {},
   "outputs": [],
   "source": []
  }
 ],
 "metadata": {
  "kernelspec": {
   "display_name": "Python 3 (ipykernel)",
   "language": "python",
   "name": "python3"
  },
  "language_info": {
   "codemirror_mode": {
    "name": "ipython",
    "version": 3
   },
   "file_extension": ".py",
   "mimetype": "text/x-python",
   "name": "python",
   "nbconvert_exporter": "python",
   "pygments_lexer": "ipython3",
   "version": "3.10.6"
  },
  "toc": {
   "base_numbering": 1,
   "nav_menu": {},
   "number_sections": true,
   "sideBar": true,
   "skip_h1_title": false,
   "title_cell": "Table of Contents",
   "title_sidebar": "Contents",
   "toc_cell": false,
   "toc_position": {},
   "toc_section_display": true,
   "toc_window_display": false
  }
 },
 "nbformat": 4,
 "nbformat_minor": 5
}
